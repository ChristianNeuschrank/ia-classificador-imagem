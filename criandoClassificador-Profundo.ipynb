{
 "cells": [
  {
   "cell_type": "code",
   "execution_count": 1,
   "metadata": {
    "execution": {
     "iopub.execute_input": "2023-11-24T22:46:32.666126Z",
     "iopub.status.busy": "2023-11-24T22:46:32.664878Z",
     "iopub.status.idle": "2023-11-24T22:47:02.842878Z",
     "shell.execute_reply": "2023-11-24T22:47:02.838822Z",
     "shell.execute_reply.started": "2023-11-24T22:46:32.666055Z"
    },
    "tags": []
   },
   "outputs": [
    {
     "name": "stderr",
     "output_type": "stream",
     "text": [
      "2023-11-24 19:46:36.301128: I tensorflow/tsl/cuda/cudart_stub.cc:28] Could not find cuda drivers on your machine, GPU will not be used.\n",
      "2023-11-24 19:46:40.829405: I tensorflow/tsl/cuda/cudart_stub.cc:28] Could not find cuda drivers on your machine, GPU will not be used.\n",
      "2023-11-24 19:46:40.841921: I tensorflow/core/platform/cpu_feature_guard.cc:182] This TensorFlow binary is optimized to use available CPU instructions in performance-critical operations.\n",
      "To enable the following instructions: AVX2 FMA, in other operations, rebuild TensorFlow with the appropriate compiler flags.\n",
      "2023-11-24 19:46:51.318049: W tensorflow/compiler/tf2tensorrt/utils/py_utils.cc:38] TF-TRT Warning: Could not find TensorRT\n"
     ]
    }
   ],
   "source": [
    "import tensorflow as tf\n",
    "import scipy, numpy\n",
    "\n",
    "from tensorflow.keras.preprocessing.image import ImageDataGenerator\n",
    "from tensorflow.keras.models import Sequential\n",
    "from tensorflow.keras.layers import Conv2D, MaxPooling2D, Flatten, Dense, Dropout"
   ]
  },
  {
   "cell_type": "code",
   "execution_count": 2,
   "metadata": {
    "execution": {
     "iopub.execute_input": "2023-11-24T22:47:02.852571Z",
     "iopub.status.busy": "2023-11-24T22:47:02.849383Z",
     "iopub.status.idle": "2023-11-24T22:47:02.870312Z",
     "shell.execute_reply": "2023-11-24T22:47:02.866326Z",
     "shell.execute_reply.started": "2023-11-24T22:47:02.852413Z"
    },
    "tags": []
   },
   "outputs": [],
   "source": [
    "# Configurações para o treinamento\n",
    "train_data_dir = './data'\n",
    "batch_size = 32 # 32 imagens por lote\n",
    "num_epochs = 100 # 100 épocas de treinamento\n",
    "image_size = (150, 150) # 150x150 pixels\n",
    "num_classes = 2 # 2 classes: 'Papai Noel' e 'Não Papai Noel'"
   ]
  },
  {
   "cell_type": "code",
   "execution_count": 3,
   "metadata": {
    "execution": {
     "iopub.execute_input": "2023-11-24T22:47:02.876385Z",
     "iopub.status.busy": "2023-11-24T22:47:02.874793Z",
     "iopub.status.idle": "2023-11-24T22:47:03.253010Z",
     "shell.execute_reply": "2023-11-24T22:47:03.249668Z",
     "shell.execute_reply.started": "2023-11-24T22:47:02.876255Z"
    },
    "tags": []
   },
   "outputs": [],
   "source": [
    "train_datagen = ImageDataGenerator(\n",
    "    rescale = 1.0/255,\n",
    "    validation_split = 0.25, # 25% para validação\n",
    "    shear_range = 0.2, # inclinação\n",
    "    zoom_range = 0.2, # zoom\n",
    "    horizontal_flip = True # espelhamento horizontal\n",
    ")"
   ]
  },
  {
   "cell_type": "code",
   "execution_count": 4,
   "metadata": {
    "execution": {
     "iopub.execute_input": "2023-11-24T22:47:03.262391Z",
     "iopub.status.busy": "2023-11-24T22:47:03.261233Z",
     "iopub.status.idle": "2023-11-24T22:47:03.864373Z",
     "shell.execute_reply": "2023-11-24T22:47:03.859963Z",
     "shell.execute_reply.started": "2023-11-24T22:47:03.262307Z"
    },
    "tags": []
   },
   "outputs": [
    {
     "name": "stdout",
     "output_type": "stream",
     "text": [
      "Found 462 images belonging to 2 classes.\n"
     ]
    }
   ],
   "source": [
    "train_generator = train_datagen.flow_from_directory(\n",
    "    train_data_dir,\n",
    "    target_size = image_size,\n",
    "    batch_size = batch_size,\n",
    "    class_mode = 'binary',\n",
    "    subset = 'training'\n",
    ")"
   ]
  },
  {
   "cell_type": "code",
   "execution_count": 5,
   "metadata": {
    "execution": {
     "iopub.execute_input": "2023-11-24T22:47:03.869508Z",
     "iopub.status.busy": "2023-11-24T22:47:03.868037Z",
     "iopub.status.idle": "2023-11-24T22:47:04.063715Z",
     "shell.execute_reply": "2023-11-24T22:47:04.060032Z",
     "shell.execute_reply.started": "2023-11-24T22:47:03.869317Z"
    },
    "tags": []
   },
   "outputs": [
    {
     "name": "stdout",
     "output_type": "stream",
     "text": [
      "Found 152 images belonging to 2 classes.\n"
     ]
    }
   ],
   "source": [
    "validation_generator = train_datagen.flow_from_directory(\n",
    "    train_data_dir,\n",
    "    target_size = image_size,\n",
    "    batch_size = batch_size,\n",
    "    class_mode = 'binary',\n",
    "    subset = 'validation'\n",
    ")"
   ]
  },
  {
   "cell_type": "code",
   "execution_count": 6,
   "metadata": {
    "execution": {
     "iopub.execute_input": "2023-11-24T22:47:04.069782Z",
     "iopub.status.busy": "2023-11-24T22:47:04.067330Z",
     "iopub.status.idle": "2023-11-24T22:47:05.861807Z",
     "shell.execute_reply": "2023-11-24T22:47:05.861073Z",
     "shell.execute_reply.started": "2023-11-24T22:47:04.069656Z"
    },
    "tags": []
   },
   "outputs": [],
   "source": [
    "model = Sequential()\n",
    "\n",
    "model.add(Conv2D(64, (3, 3), input_shape=(image_size[0], image_size[1], 3), activation='relu'))\n",
    "model.add(MaxPooling2D(pool_size=(2, 2)))\n",
    "\n",
    "model.add(Conv2D(128, (3, 3), activation='relu'))\n",
    "model.add(MaxPooling2D(pool_size=(2, 2)))\n",
    "\n",
    "model.add(Conv2D(256, (3, 3), activation='relu'))\n",
    "model.add(MaxPooling2D(pool_size=(2, 2)))\n",
    "\n",
    "model.add(Conv2D(512, (3, 3), activation='relu'))\n",
    "model.add(MaxPooling2D(pool_size=(2, 2)))\n",
    "\n",
    "model.add(Flatten())\n",
    "\n",
    "model.add(Dense(512, activation='relu'))\n",
    "model.add(Dropout(0.5))\n",
    "\n",
    "model.add(Dense(256, activation='relu'))\n",
    "model.add(Dropout(0.5))\n",
    "\n",
    "model.add(Dense(128, activation='relu'))\n",
    "model.add(Dropout(0.5))\n",
    "\n",
    "model.add(Dense(64, activation='relu'))\n",
    "model.add(Dropout(0.5))\n",
    "\n",
    "model.add(Dense(1, activation='sigmoid'))"
   ]
  },
  {
   "cell_type": "code",
   "execution_count": 7,
   "metadata": {
    "execution": {
     "iopub.execute_input": "2023-11-24T22:47:05.862745Z",
     "iopub.status.busy": "2023-11-24T22:47:05.862549Z",
     "iopub.status.idle": "2023-11-24T22:47:05.991478Z",
     "shell.execute_reply": "2023-11-24T22:47:05.990362Z",
     "shell.execute_reply.started": "2023-11-24T22:47:05.862726Z"
    },
    "tags": []
   },
   "outputs": [],
   "source": [
    "# compilar o modelo\n",
    "model.compile(\n",
    "    optimizer = 'adam',\n",
    "    loss = 'binary_crossentropy', # mais próximo de 0 melhor, 0.002 por exemplo\n",
    "    metrics = ['accuracy']\n",
    ")"
   ]
  },
  {
   "cell_type": "code",
   "execution_count": 8,
   "metadata": {
    "execution": {
     "iopub.execute_input": "2023-11-24T22:47:05.993709Z",
     "iopub.status.busy": "2023-11-24T22:47:05.992879Z",
     "iopub.status.idle": "2023-11-24T23:39:02.307157Z",
     "shell.execute_reply": "2023-11-24T23:39:02.306135Z",
     "shell.execute_reply.started": "2023-11-24T22:47:05.993657Z"
    },
    "tags": []
   },
   "outputs": [
    {
     "name": "stdout",
     "output_type": "stream",
     "text": [
      "Epoch 1/100\n",
      "15/15 [==============================] - 31s 2s/step - loss: 0.6862 - accuracy: 0.5498 - val_loss: 0.6142 - val_accuracy: 0.8487\n",
      "Epoch 2/100\n",
      "15/15 [==============================] - 32s 2s/step - loss: 0.6393 - accuracy: 0.7359 - val_loss: 0.5227 - val_accuracy: 0.8224\n",
      "Epoch 3/100\n",
      "15/15 [==============================] - 30s 2s/step - loss: 0.5715 - accuracy: 0.8528 - val_loss: 0.4729 - val_accuracy: 0.8421\n",
      "Epoch 4/100\n",
      "15/15 [==============================] - 31s 2s/step - loss: 0.5337 - accuracy: 0.8377 - val_loss: 0.4134 - val_accuracy: 0.8816\n",
      "Epoch 5/100\n",
      "15/15 [==============================] - 30s 2s/step - loss: 0.4493 - accuracy: 0.8528 - val_loss: 0.2781 - val_accuracy: 0.9013\n",
      "Epoch 6/100\n",
      "15/15 [==============================] - 26s 2s/step - loss: 0.3751 - accuracy: 0.8853 - val_loss: 0.3031 - val_accuracy: 0.8421\n",
      "Epoch 7/100\n",
      "15/15 [==============================] - 26s 2s/step - loss: 0.4984 - accuracy: 0.8203 - val_loss: 0.3889 - val_accuracy: 0.8487\n",
      "Epoch 8/100\n",
      "15/15 [==============================] - 31s 2s/step - loss: 0.4247 - accuracy: 0.8550 - val_loss: 0.2986 - val_accuracy: 0.8553\n",
      "Epoch 9/100\n",
      "15/15 [==============================] - 28s 2s/step - loss: 0.3460 - accuracy: 0.8853 - val_loss: 0.2995 - val_accuracy: 0.8882\n",
      "Epoch 10/100\n",
      "15/15 [==============================] - 31s 2s/step - loss: 0.2805 - accuracy: 0.8853 - val_loss: 0.2338 - val_accuracy: 0.9013\n",
      "Epoch 11/100\n",
      "15/15 [==============================] - 31s 2s/step - loss: 0.2506 - accuracy: 0.9156 - val_loss: 0.2654 - val_accuracy: 0.9013\n",
      "Epoch 12/100\n",
      "15/15 [==============================] - 30s 2s/step - loss: 0.2669 - accuracy: 0.9113 - val_loss: 0.2350 - val_accuracy: 0.8882\n",
      "Epoch 13/100\n",
      "15/15 [==============================] - 31s 2s/step - loss: 0.2295 - accuracy: 0.9286 - val_loss: 0.2784 - val_accuracy: 0.9013\n",
      "Epoch 14/100\n",
      "15/15 [==============================] - 31s 2s/step - loss: 0.2824 - accuracy: 0.8745 - val_loss: 0.3216 - val_accuracy: 0.8684\n",
      "Epoch 15/100\n",
      "15/15 [==============================] - 30s 2s/step - loss: 0.2712 - accuracy: 0.8961 - val_loss: 0.3774 - val_accuracy: 0.8487\n",
      "Epoch 16/100\n",
      "15/15 [==============================] - 31s 2s/step - loss: 0.2566 - accuracy: 0.9048 - val_loss: 0.3728 - val_accuracy: 0.9079\n",
      "Epoch 17/100\n",
      "15/15 [==============================] - 30s 2s/step - loss: 0.2288 - accuracy: 0.9048 - val_loss: 0.2597 - val_accuracy: 0.8882\n",
      "Epoch 18/100\n",
      "15/15 [==============================] - 31s 2s/step - loss: 0.1935 - accuracy: 0.9113 - val_loss: 0.5819 - val_accuracy: 0.8684\n",
      "Epoch 19/100\n",
      "15/15 [==============================] - 31s 2s/step - loss: 0.2245 - accuracy: 0.9134 - val_loss: 0.3156 - val_accuracy: 0.8684\n",
      "Epoch 20/100\n",
      "15/15 [==============================] - 31s 2s/step - loss: 0.2309 - accuracy: 0.9069 - val_loss: 0.2582 - val_accuracy: 0.8947\n",
      "Epoch 21/100\n",
      "15/15 [==============================] - 31s 2s/step - loss: 0.2052 - accuracy: 0.9199 - val_loss: 0.2763 - val_accuracy: 0.8947\n",
      "Epoch 22/100\n",
      "15/15 [==============================] - 31s 2s/step - loss: 0.2142 - accuracy: 0.9177 - val_loss: 0.4074 - val_accuracy: 0.8816\n",
      "Epoch 23/100\n",
      "15/15 [==============================] - 32s 2s/step - loss: 0.2280 - accuracy: 0.9156 - val_loss: 0.3329 - val_accuracy: 0.8750\n",
      "Epoch 24/100\n",
      "15/15 [==============================] - 31s 2s/step - loss: 0.1857 - accuracy: 0.9329 - val_loss: 0.3921 - val_accuracy: 0.8882\n",
      "Epoch 25/100\n",
      "15/15 [==============================] - 31s 2s/step - loss: 0.1458 - accuracy: 0.9545 - val_loss: 0.4882 - val_accuracy: 0.8684\n",
      "Epoch 26/100\n",
      "15/15 [==============================] - 31s 2s/step - loss: 0.1570 - accuracy: 0.9394 - val_loss: 0.5193 - val_accuracy: 0.8947\n",
      "Epoch 27/100\n",
      "15/15 [==============================] - 31s 2s/step - loss: 0.1614 - accuracy: 0.9394 - val_loss: 0.3723 - val_accuracy: 0.8882\n",
      "Epoch 28/100\n",
      "15/15 [==============================] - 31s 2s/step - loss: 0.1754 - accuracy: 0.9416 - val_loss: 0.2900 - val_accuracy: 0.8816\n",
      "Epoch 29/100\n",
      "15/15 [==============================] - 31s 2s/step - loss: 0.1543 - accuracy: 0.9459 - val_loss: 0.3030 - val_accuracy: 0.8947\n",
      "Epoch 30/100\n",
      "15/15 [==============================] - 31s 2s/step - loss: 0.1604 - accuracy: 0.9437 - val_loss: 0.5240 - val_accuracy: 0.8750\n",
      "Epoch 31/100\n",
      "15/15 [==============================] - 31s 2s/step - loss: 0.1360 - accuracy: 0.9416 - val_loss: 0.5131 - val_accuracy: 0.8618\n",
      "Epoch 32/100\n",
      "15/15 [==============================] - 31s 2s/step - loss: 0.1689 - accuracy: 0.9459 - val_loss: 0.3145 - val_accuracy: 0.9211\n",
      "Epoch 33/100\n",
      "15/15 [==============================] - 30s 2s/step - loss: 0.1732 - accuracy: 0.9351 - val_loss: 0.3636 - val_accuracy: 0.8553\n",
      "Epoch 34/100\n",
      "15/15 [==============================] - 31s 2s/step - loss: 0.1302 - accuracy: 0.9459 - val_loss: 0.4973 - val_accuracy: 0.8684\n",
      "Epoch 35/100\n",
      "15/15 [==============================] - 31s 2s/step - loss: 0.1061 - accuracy: 0.9567 - val_loss: 0.7182 - val_accuracy: 0.8816\n",
      "Epoch 36/100\n",
      "15/15 [==============================] - 31s 2s/step - loss: 0.1927 - accuracy: 0.9502 - val_loss: 0.5494 - val_accuracy: 0.8355\n",
      "Epoch 37/100\n",
      "15/15 [==============================] - 31s 2s/step - loss: 0.2885 - accuracy: 0.8874 - val_loss: 0.3741 - val_accuracy: 0.8421\n",
      "Epoch 38/100\n",
      "15/15 [==============================] - 31s 2s/step - loss: 0.2029 - accuracy: 0.9329 - val_loss: 0.3015 - val_accuracy: 0.8816\n",
      "Epoch 39/100\n",
      "15/15 [==============================] - 32s 2s/step - loss: 0.1454 - accuracy: 0.9372 - val_loss: 0.3679 - val_accuracy: 0.8882\n",
      "Epoch 40/100\n",
      "15/15 [==============================] - 31s 2s/step - loss: 0.1087 - accuracy: 0.9610 - val_loss: 0.4812 - val_accuracy: 0.8750\n",
      "Epoch 41/100\n",
      "15/15 [==============================] - 31s 2s/step - loss: 0.1348 - accuracy: 0.9545 - val_loss: 0.4830 - val_accuracy: 0.9013\n",
      "Epoch 42/100\n",
      "15/15 [==============================] - 31s 2s/step - loss: 0.1034 - accuracy: 0.9589 - val_loss: 0.3890 - val_accuracy: 0.8947\n",
      "Epoch 43/100\n",
      "15/15 [==============================] - 31s 2s/step - loss: 0.1262 - accuracy: 0.9545 - val_loss: 0.3953 - val_accuracy: 0.8816\n",
      "Epoch 44/100\n",
      "15/15 [==============================] - 32s 2s/step - loss: 0.1114 - accuracy: 0.9654 - val_loss: 0.3784 - val_accuracy: 0.8947\n",
      "Epoch 45/100\n",
      "15/15 [==============================] - 32s 2s/step - loss: 0.0987 - accuracy: 0.9545 - val_loss: 0.3707 - val_accuracy: 0.8750\n",
      "Epoch 46/100\n",
      "15/15 [==============================] - 32s 2s/step - loss: 0.0772 - accuracy: 0.9719 - val_loss: 0.6690 - val_accuracy: 0.8750\n",
      "Epoch 47/100\n",
      "15/15 [==============================] - 32s 2s/step - loss: 0.0899 - accuracy: 0.9719 - val_loss: 0.3095 - val_accuracy: 0.9211\n",
      "Epoch 48/100\n",
      "15/15 [==============================] - 33s 2s/step - loss: 0.0688 - accuracy: 0.9762 - val_loss: 0.4691 - val_accuracy: 0.9145\n",
      "Epoch 49/100\n",
      "15/15 [==============================] - 31s 2s/step - loss: 0.0822 - accuracy: 0.9675 - val_loss: 0.6109 - val_accuracy: 0.8882\n",
      "Epoch 50/100\n",
      "15/15 [==============================] - 33s 2s/step - loss: 0.1303 - accuracy: 0.9610 - val_loss: 0.5058 - val_accuracy: 0.8947\n",
      "Epoch 51/100\n",
      "15/15 [==============================] - 31s 2s/step - loss: 0.0556 - accuracy: 0.9848 - val_loss: 0.5048 - val_accuracy: 0.9079\n",
      "Epoch 52/100\n",
      "15/15 [==============================] - 32s 2s/step - loss: 0.0798 - accuracy: 0.9762 - val_loss: 0.6418 - val_accuracy: 0.8684\n",
      "Epoch 53/100\n",
      "15/15 [==============================] - 32s 2s/step - loss: 0.0603 - accuracy: 0.9784 - val_loss: 0.6501 - val_accuracy: 0.8882\n",
      "Epoch 54/100\n",
      "15/15 [==============================] - 32s 2s/step - loss: 0.0687 - accuracy: 0.9719 - val_loss: 0.4458 - val_accuracy: 0.9145\n",
      "Epoch 55/100\n",
      "15/15 [==============================] - 32s 2s/step - loss: 0.0769 - accuracy: 0.9697 - val_loss: 0.5652 - val_accuracy: 0.9013\n",
      "Epoch 56/100\n",
      "15/15 [==============================] - 32s 2s/step - loss: 0.0696 - accuracy: 0.9719 - val_loss: 0.4498 - val_accuracy: 0.8816\n",
      "Epoch 57/100\n",
      "15/15 [==============================] - 31s 2s/step - loss: 0.0764 - accuracy: 0.9740 - val_loss: 0.4914 - val_accuracy: 0.9013\n",
      "Epoch 58/100\n",
      "15/15 [==============================] - 32s 2s/step - loss: 0.0414 - accuracy: 0.9848 - val_loss: 1.0314 - val_accuracy: 0.8618\n",
      "Epoch 59/100\n",
      "15/15 [==============================] - 31s 2s/step - loss: 0.0413 - accuracy: 0.9870 - val_loss: 0.8088 - val_accuracy: 0.9079\n",
      "Epoch 60/100\n",
      "15/15 [==============================] - 31s 2s/step - loss: 0.0486 - accuracy: 0.9848 - val_loss: 0.7694 - val_accuracy: 0.8816\n",
      "Epoch 61/100\n",
      "15/15 [==============================] - 32s 2s/step - loss: 0.0578 - accuracy: 0.9740 - val_loss: 0.6772 - val_accuracy: 0.9079\n",
      "Epoch 62/100\n",
      "15/15 [==============================] - 31s 2s/step - loss: 0.0665 - accuracy: 0.9719 - val_loss: 0.8650 - val_accuracy: 0.8816\n",
      "Epoch 63/100\n",
      "15/15 [==============================] - 31s 2s/step - loss: 0.1042 - accuracy: 0.9719 - val_loss: 0.7654 - val_accuracy: 0.8355\n",
      "Epoch 64/100\n",
      "15/15 [==============================] - 31s 2s/step - loss: 0.0655 - accuracy: 0.9740 - val_loss: 0.5676 - val_accuracy: 0.9013\n",
      "Epoch 65/100\n",
      "15/15 [==============================] - 31s 2s/step - loss: 0.0494 - accuracy: 0.9827 - val_loss: 0.7300 - val_accuracy: 0.9079\n",
      "Epoch 66/100\n",
      "15/15 [==============================] - 31s 2s/step - loss: 0.0726 - accuracy: 0.9848 - val_loss: 1.2885 - val_accuracy: 0.8158\n",
      "Epoch 67/100\n",
      "15/15 [==============================] - 31s 2s/step - loss: 0.2091 - accuracy: 0.9437 - val_loss: 0.4088 - val_accuracy: 0.8816\n",
      "Epoch 68/100\n",
      "15/15 [==============================] - 32s 2s/step - loss: 0.1046 - accuracy: 0.9589 - val_loss: 0.4272 - val_accuracy: 0.8750\n",
      "Epoch 69/100\n",
      "15/15 [==============================] - 32s 2s/step - loss: 0.0533 - accuracy: 0.9784 - val_loss: 0.4585 - val_accuracy: 0.8882\n",
      "Epoch 70/100\n",
      "15/15 [==============================] - 32s 2s/step - loss: 0.0690 - accuracy: 0.9697 - val_loss: 0.6179 - val_accuracy: 0.9013\n",
      "Epoch 71/100\n",
      "15/15 [==============================] - 31s 2s/step - loss: 0.0631 - accuracy: 0.9870 - val_loss: 0.7323 - val_accuracy: 0.8882\n",
      "Epoch 72/100\n",
      "15/15 [==============================] - 31s 2s/step - loss: 0.0577 - accuracy: 0.9827 - val_loss: 0.5430 - val_accuracy: 0.8947\n",
      "Epoch 73/100\n",
      "15/15 [==============================] - 32s 2s/step - loss: 0.0598 - accuracy: 0.9805 - val_loss: 0.9142 - val_accuracy: 0.8355\n",
      "Epoch 74/100\n",
      "15/15 [==============================] - 31s 2s/step - loss: 0.1112 - accuracy: 0.9589 - val_loss: 0.4443 - val_accuracy: 0.9145\n",
      "Epoch 75/100\n",
      "15/15 [==============================] - 31s 2s/step - loss: 0.0755 - accuracy: 0.9719 - val_loss: 0.4094 - val_accuracy: 0.9013\n",
      "Epoch 76/100\n",
      "15/15 [==============================] - 31s 2s/step - loss: 0.0561 - accuracy: 0.9848 - val_loss: 0.4970 - val_accuracy: 0.9079\n",
      "Epoch 77/100\n",
      "15/15 [==============================] - 31s 2s/step - loss: 0.0430 - accuracy: 0.9784 - val_loss: 0.6102 - val_accuracy: 0.9145\n",
      "Epoch 78/100\n",
      "15/15 [==============================] - 31s 2s/step - loss: 0.0465 - accuracy: 0.9892 - val_loss: 0.7297 - val_accuracy: 0.9145\n",
      "Epoch 79/100\n",
      "15/15 [==============================] - 31s 2s/step - loss: 0.0389 - accuracy: 0.9892 - val_loss: 0.7439 - val_accuracy: 0.9079\n",
      "Epoch 80/100\n",
      "15/15 [==============================] - 31s 2s/step - loss: 0.0190 - accuracy: 0.9913 - val_loss: 0.7407 - val_accuracy: 0.8816\n",
      "Epoch 81/100\n",
      "15/15 [==============================] - 32s 2s/step - loss: 0.0369 - accuracy: 0.9957 - val_loss: 0.5749 - val_accuracy: 0.8816\n",
      "Epoch 82/100\n",
      "15/15 [==============================] - 32s 2s/step - loss: 0.0284 - accuracy: 0.9978 - val_loss: 1.3651 - val_accuracy: 0.8487\n",
      "Epoch 83/100\n",
      "15/15 [==============================] - 31s 2s/step - loss: 0.0590 - accuracy: 0.9740 - val_loss: 0.8086 - val_accuracy: 0.9079\n",
      "Epoch 84/100\n",
      "15/15 [==============================] - 32s 2s/step - loss: 0.1013 - accuracy: 0.9719 - val_loss: 1.1514 - val_accuracy: 0.8421\n",
      "Epoch 85/100\n",
      "15/15 [==============================] - 31s 2s/step - loss: 0.1558 - accuracy: 0.9524 - val_loss: 0.4155 - val_accuracy: 0.8684\n",
      "Epoch 86/100\n",
      "15/15 [==============================] - 31s 2s/step - loss: 0.0528 - accuracy: 0.9848 - val_loss: 0.5705 - val_accuracy: 0.9079\n",
      "Epoch 87/100\n",
      "15/15 [==============================] - 31s 2s/step - loss: 0.0445 - accuracy: 0.9827 - val_loss: 0.4808 - val_accuracy: 0.9013\n",
      "Epoch 88/100\n",
      "15/15 [==============================] - 31s 2s/step - loss: 0.0313 - accuracy: 0.9848 - val_loss: 0.5521 - val_accuracy: 0.8947\n",
      "Epoch 89/100\n",
      "15/15 [==============================] - 31s 2s/step - loss: 0.0183 - accuracy: 0.9978 - val_loss: 0.7534 - val_accuracy: 0.8882\n",
      "Epoch 90/100\n",
      "15/15 [==============================] - 32s 2s/step - loss: 0.0952 - accuracy: 0.9870 - val_loss: 0.3892 - val_accuracy: 0.9013\n",
      "Epoch 91/100\n",
      "15/15 [==============================] - 32s 2s/step - loss: 0.1223 - accuracy: 0.9913 - val_loss: 0.6670 - val_accuracy: 0.9013\n",
      "Epoch 92/100\n",
      "15/15 [==============================] - 31s 2s/step - loss: 0.1450 - accuracy: 0.9567 - val_loss: 0.4908 - val_accuracy: 0.8882\n",
      "Epoch 93/100\n",
      "15/15 [==============================] - 31s 2s/step - loss: 0.0714 - accuracy: 0.9870 - val_loss: 0.6843 - val_accuracy: 0.8947\n",
      "Epoch 94/100\n",
      "15/15 [==============================] - 31s 2s/step - loss: 0.0909 - accuracy: 0.9740 - val_loss: 0.4726 - val_accuracy: 0.9013\n",
      "Epoch 95/100\n",
      "15/15 [==============================] - 31s 2s/step - loss: 0.0527 - accuracy: 0.9892 - val_loss: 0.4639 - val_accuracy: 0.9013\n",
      "Epoch 96/100\n",
      "15/15 [==============================] - 32s 2s/step - loss: 0.0368 - accuracy: 0.9913 - val_loss: 0.8384 - val_accuracy: 0.8816\n",
      "Epoch 97/100\n",
      "15/15 [==============================] - 32s 2s/step - loss: 0.0433 - accuracy: 0.9848 - val_loss: 0.6824 - val_accuracy: 0.8750\n",
      "Epoch 98/100\n",
      "15/15 [==============================] - 32s 2s/step - loss: 0.0436 - accuracy: 0.9913 - val_loss: 0.7058 - val_accuracy: 0.8750\n",
      "Epoch 99/100\n",
      "15/15 [==============================] - 31s 2s/step - loss: 0.0221 - accuracy: 0.9935 - val_loss: 0.8070 - val_accuracy: 0.8816\n",
      "Epoch 100/100\n",
      "15/15 [==============================] - 31s 2s/step - loss: 0.0405 - accuracy: 0.9805 - val_loss: 0.7971 - val_accuracy: 0.8816\n",
      "Treinamento concluído!\n"
     ]
    }
   ],
   "source": [
    "# treinamento\n",
    "model.fit(\n",
    "    train_generator,\n",
    "    epochs = num_epochs,\n",
    "    validation_data = validation_generator\n",
    ")\n",
    "\n",
    "print('Treinamento concluído!')"
   ]
  },
  {
   "cell_type": "code",
   "execution_count": 9,
   "metadata": {
    "execution": {
     "iopub.execute_input": "2023-11-24T23:39:02.309016Z",
     "iopub.status.busy": "2023-11-24T23:39:02.308427Z",
     "iopub.status.idle": "2023-11-24T23:39:03.015191Z",
     "shell.execute_reply": "2023-11-24T23:39:03.012304Z",
     "shell.execute_reply.started": "2023-11-24T23:39:02.308982Z"
    },
    "tags": []
   },
   "outputs": [],
   "source": [
    "# salvar o modelo\n",
    "model.save('./models/cfIsNoel-RCastilhos.keras')"
   ]
  },
  {
   "cell_type": "code",
   "execution_count": null,
   "metadata": {},
   "outputs": [],
   "source": []
  }
 ],
 "metadata": {
  "kernelspec": {
   "display_name": "Python 3 (ipykernel)",
   "language": "python",
   "name": "python3"
  },
  "language_info": {
   "codemirror_mode": {
    "name": "ipython",
    "version": 3
   },
   "file_extension": ".py",
   "mimetype": "text/x-python",
   "name": "python",
   "nbconvert_exporter": "python",
   "pygments_lexer": "ipython3",
   "version": "3.10.6"
  },
  "widgets": {
   "application/vnd.jupyter.widget-state+json": {
    "state": {},
    "version_major": 2,
    "version_minor": 0
   }
  }
 },
 "nbformat": 4,
 "nbformat_minor": 4
}
