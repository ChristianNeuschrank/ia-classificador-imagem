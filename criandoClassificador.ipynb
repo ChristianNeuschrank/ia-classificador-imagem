{
 "cells": [
  {
   "cell_type": "code",
   "execution_count": 1,
   "metadata": {},
   "outputs": [
    {
     "name": "stdout",
     "output_type": "stream",
     "text": [
      "WARNING:tensorflow:From c:\\Users\\artur\\anaconda3\\Lib\\site-packages\\keras\\src\\losses.py:2976: The name tf.losses.sparse_softmax_cross_entropy is deprecated. Please use tf.compat.v1.losses.sparse_softmax_cross_entropy instead.\n",
      "\n"
     ]
    }
   ],
   "source": [
    "import tensorflow as tf\n",
    "import scipy, numpy\n",
    "\n",
    "from tensorflow.keras.preprocessing.image import ImageDataGenerator\n",
    "from tensorflow.keras.models import Sequential\n",
    "from tensorflow.keras.layers import Conv2D, MaxPooling2D, Flatten, Dense, Dropout"
   ]
  },
  {
   "cell_type": "code",
   "execution_count": 2,
   "metadata": {},
   "outputs": [],
   "source": [
    "# Configurações para o treinamento\n",
    "train_data_dir = './data'\n",
    "batch_size = 32 # 32 imagens por lote\n",
    "num_epochs = 50 # 50 épocas de treinamento\n",
    "image_size = (150, 150) # 150x150 pixels\n",
    "num_classes = 2 # 2 classes: porco e gato"
   ]
  },
  {
   "cell_type": "code",
   "execution_count": 3,
   "metadata": {},
   "outputs": [],
   "source": [
    "train_datagen = ImageDataGenerator(\n",
    "    rescale = 1.0/255,\n",
    "    validation_split = 0.25, # 25% para validação\n",
    "    shear_range = 0.2, # inclinação\n",
    "    zoom_range = 0.2, # zoom\n",
    "    horizontal_flip = True # espelhamento horizontal\n",
    ")"
   ]
  },
  {
   "cell_type": "code",
   "execution_count": 4,
   "metadata": {},
   "outputs": [
    {
     "name": "stdout",
     "output_type": "stream",
     "text": [
      "Found 750 images belonging to 2 classes.\n"
     ]
    }
   ],
   "source": [
    "train_generator = train_datagen.flow_from_directory(\n",
    "    train_data_dir,\n",
    "    target_size = image_size,\n",
    "    batch_size = batch_size,\n",
    "    class_mode = 'binary',\n",
    "    subset = 'training'\n",
    ")"
   ]
  },
  {
   "cell_type": "code",
   "execution_count": 5,
   "metadata": {},
   "outputs": [
    {
     "name": "stdout",
     "output_type": "stream",
     "text": [
      "Found 249 images belonging to 2 classes.\n"
     ]
    }
   ],
   "source": [
    "validation_generator = train_datagen.flow_from_directory(\n",
    "    train_data_dir,\n",
    "    target_size = image_size,\n",
    "    batch_size = batch_size,\n",
    "    class_mode = 'binary',\n",
    "    subset = 'validation'\n",
    ")"
   ]
  },
  {
   "cell_type": "code",
   "execution_count": 6,
   "metadata": {},
   "outputs": [
    {
     "name": "stdout",
     "output_type": "stream",
     "text": [
      "WARNING:tensorflow:From c:\\Users\\artur\\anaconda3\\Lib\\site-packages\\keras\\src\\backend.py:873: The name tf.get_default_graph is deprecated. Please use tf.compat.v1.get_default_graph instead.\n",
      "\n",
      "WARNING:tensorflow:From c:\\Users\\artur\\anaconda3\\Lib\\site-packages\\keras\\src\\layers\\pooling\\max_pooling2d.py:161: The name tf.nn.max_pool is deprecated. Please use tf.nn.max_pool2d instead.\n",
      "\n"
     ]
    }
   ],
   "source": [
    "model = Sequential() # instanciando o modelo\n",
    "model.add(Conv2D(32, (3,3), input_shape=(image_size[0], image_size[1], 3), activation='relu')) # camada de convolução\n",
    "model.add(MaxPooling2D(pool_size=(2,2))) # camada de pooling\n",
    "model.add(Conv2D(64, (3,3), activation='relu')) # camada de convolução\n",
    "model.add(MaxPooling2D(pool_size=(2,2))) # camada de pooling\n",
    "model.add(Flatten()) # camada de achatamento ou vetorização\n",
    "model.add(Dense(64, activation='relu')) # neurônios\n",
    "model.add(Dropout(0.5)) # regularização 50% chance de desligar neurônios\n",
    "model.add(Dense(1, activation='sigmoid')) # camada de saída (classificação binária)"
   ]
  },
  {
   "cell_type": "code",
   "execution_count": 7,
   "metadata": {},
   "outputs": [
    {
     "name": "stdout",
     "output_type": "stream",
     "text": [
      "WARNING:tensorflow:From c:\\Users\\artur\\anaconda3\\Lib\\site-packages\\keras\\src\\optimizers\\__init__.py:309: The name tf.train.Optimizer is deprecated. Please use tf.compat.v1.train.Optimizer instead.\n",
      "\n"
     ]
    }
   ],
   "source": [
    "# compilar o modelo\n",
    "model.compile(\n",
    "    optimizer = 'adam',\n",
    "    loss = 'binary_crossentropy', # mais próximo de 0 melhor, 0.002 por exemplo\n",
    "    metrics = ['accuracy']\n",
    ")"
   ]
  },
  {
   "cell_type": "code",
   "execution_count": 8,
   "metadata": {},
   "outputs": [
    {
     "name": "stdout",
     "output_type": "stream",
     "text": [
      "Epoch 1/50\n",
      "WARNING:tensorflow:From c:\\Users\\artur\\anaconda3\\Lib\\site-packages\\keras\\src\\utils\\tf_utils.py:492: The name tf.ragged.RaggedTensorValue is deprecated. Please use tf.compat.v1.ragged.RaggedTensorValue instead.\n",
      "\n",
      "WARNING:tensorflow:From c:\\Users\\artur\\anaconda3\\Lib\\site-packages\\keras\\src\\engine\\base_layer_utils.py:384: The name tf.executing_eagerly_outside_functions is deprecated. Please use tf.compat.v1.executing_eagerly_outside_functions instead.\n",
      "\n",
      "24/24 [==============================] - 16s 595ms/step - loss: 0.8763 - accuracy: 0.5013 - val_loss: 0.6928 - val_accuracy: 0.5462\n",
      "Epoch 2/50\n",
      "24/24 [==============================] - 10s 434ms/step - loss: 0.6930 - accuracy: 0.5427 - val_loss: 0.6917 - val_accuracy: 0.5020\n",
      "Epoch 3/50\n",
      "24/24 [==============================] - 11s 458ms/step - loss: 0.6910 - accuracy: 0.5027 - val_loss: 0.6924 - val_accuracy: 0.5261\n",
      "Epoch 4/50\n",
      "24/24 [==============================] - 10s 426ms/step - loss: 0.6894 - accuracy: 0.5387 - val_loss: 0.6890 - val_accuracy: 0.5382\n",
      "Epoch 5/50\n",
      "24/24 [==============================] - 10s 416ms/step - loss: 0.6789 - accuracy: 0.5560 - val_loss: 0.6931 - val_accuracy: 0.5181\n",
      "Epoch 6/50\n",
      "24/24 [==============================] - 9s 389ms/step - loss: 0.6589 - accuracy: 0.6160 - val_loss: 0.6712 - val_accuracy: 0.5863\n",
      "Epoch 7/50\n",
      "24/24 [==============================] - 9s 393ms/step - loss: 0.6526 - accuracy: 0.6147 - val_loss: 0.6742 - val_accuracy: 0.5502\n",
      "Epoch 8/50\n",
      "24/24 [==============================] - 10s 442ms/step - loss: 0.6354 - accuracy: 0.6520 - val_loss: 0.6660 - val_accuracy: 0.5743\n",
      "Epoch 9/50\n",
      "24/24 [==============================] - 11s 436ms/step - loss: 0.6103 - accuracy: 0.6627 - val_loss: 0.6819 - val_accuracy: 0.5422\n",
      "Epoch 10/50\n",
      "24/24 [==============================] - 12s 489ms/step - loss: 0.6106 - accuracy: 0.6733 - val_loss: 0.6661 - val_accuracy: 0.5462\n",
      "Epoch 11/50\n",
      "24/24 [==============================] - 12s 505ms/step - loss: 0.6138 - accuracy: 0.6747 - val_loss: 0.6749 - val_accuracy: 0.5542\n",
      "Epoch 12/50\n",
      "24/24 [==============================] - 10s 406ms/step - loss: 0.5918 - accuracy: 0.6760 - val_loss: 0.6617 - val_accuracy: 0.5743\n",
      "Epoch 13/50\n",
      "24/24 [==============================] - 10s 400ms/step - loss: 0.5782 - accuracy: 0.7013 - val_loss: 0.6613 - val_accuracy: 0.5703\n",
      "Epoch 14/50\n",
      "24/24 [==============================] - 10s 442ms/step - loss: 0.5787 - accuracy: 0.6987 - val_loss: 0.7160 - val_accuracy: 0.5221\n",
      "Epoch 15/50\n",
      "24/24 [==============================] - 10s 421ms/step - loss: 0.5876 - accuracy: 0.6920 - val_loss: 0.6704 - val_accuracy: 0.5904\n",
      "Epoch 16/50\n",
      "24/24 [==============================] - 10s 418ms/step - loss: 0.5669 - accuracy: 0.7213 - val_loss: 0.6668 - val_accuracy: 0.5502\n",
      "Epoch 17/50\n",
      "24/24 [==============================] - 10s 402ms/step - loss: 0.5334 - accuracy: 0.7467 - val_loss: 0.6987 - val_accuracy: 0.5863\n",
      "Epoch 18/50\n",
      "24/24 [==============================] - 10s 401ms/step - loss: 0.5298 - accuracy: 0.7320 - val_loss: 0.7190 - val_accuracy: 0.5863\n",
      "Epoch 19/50\n",
      "24/24 [==============================] - 11s 441ms/step - loss: 0.5399 - accuracy: 0.7413 - val_loss: 0.6743 - val_accuracy: 0.5663\n",
      "Epoch 20/50\n",
      "24/24 [==============================] - 10s 431ms/step - loss: 0.5326 - accuracy: 0.7320 - val_loss: 0.6726 - val_accuracy: 0.5863\n",
      "Epoch 21/50\n",
      "24/24 [==============================] - 9s 389ms/step - loss: 0.4935 - accuracy: 0.7747 - val_loss: 0.7432 - val_accuracy: 0.5301\n",
      "Epoch 22/50\n",
      "24/24 [==============================] - 9s 392ms/step - loss: 0.4890 - accuracy: 0.7560 - val_loss: 0.7165 - val_accuracy: 0.5462\n",
      "Epoch 23/50\n",
      "24/24 [==============================] - 9s 384ms/step - loss: 0.5008 - accuracy: 0.7547 - val_loss: 0.6747 - val_accuracy: 0.6104\n",
      "Epoch 24/50\n",
      "24/24 [==============================] - 9s 387ms/step - loss: 0.5119 - accuracy: 0.7413 - val_loss: 0.7063 - val_accuracy: 0.5542\n",
      "Epoch 25/50\n",
      "24/24 [==============================] - 9s 398ms/step - loss: 0.4687 - accuracy: 0.7733 - val_loss: 0.7234 - val_accuracy: 0.5462\n",
      "Epoch 26/50\n",
      "24/24 [==============================] - 9s 389ms/step - loss: 0.4766 - accuracy: 0.7560 - val_loss: 0.7513 - val_accuracy: 0.5542\n",
      "Epoch 27/50\n",
      "24/24 [==============================] - 9s 388ms/step - loss: 0.4699 - accuracy: 0.7813 - val_loss: 0.7243 - val_accuracy: 0.5823\n",
      "Epoch 28/50\n",
      "24/24 [==============================] - 9s 389ms/step - loss: 0.4549 - accuracy: 0.7760 - val_loss: 0.7311 - val_accuracy: 0.5944\n",
      "Epoch 29/50\n",
      "24/24 [==============================] - 9s 391ms/step - loss: 0.4518 - accuracy: 0.7827 - val_loss: 0.8000 - val_accuracy: 0.5542\n",
      "Epoch 30/50\n",
      "24/24 [==============================] - 9s 392ms/step - loss: 0.4588 - accuracy: 0.7773 - val_loss: 0.7531 - val_accuracy: 0.6104\n",
      "Epoch 31/50\n",
      "24/24 [==============================] - 9s 387ms/step - loss: 0.4568 - accuracy: 0.7693 - val_loss: 0.7090 - val_accuracy: 0.5783\n",
      "Epoch 32/50\n",
      "24/24 [==============================] - 11s 439ms/step - loss: 0.4536 - accuracy: 0.7733 - val_loss: 0.7159 - val_accuracy: 0.5783\n",
      "Epoch 33/50\n",
      "24/24 [==============================] - 10s 405ms/step - loss: 0.4419 - accuracy: 0.7880 - val_loss: 0.6721 - val_accuracy: 0.6024\n",
      "Epoch 34/50\n",
      "24/24 [==============================] - 9s 392ms/step - loss: 0.4295 - accuracy: 0.7880 - val_loss: 0.7995 - val_accuracy: 0.5783\n",
      "Epoch 35/50\n",
      "24/24 [==============================] - 9s 392ms/step - loss: 0.4180 - accuracy: 0.8013 - val_loss: 0.7885 - val_accuracy: 0.5502\n",
      "Epoch 36/50\n",
      "24/24 [==============================] - 9s 392ms/step - loss: 0.3958 - accuracy: 0.8000 - val_loss: 0.7465 - val_accuracy: 0.6064\n",
      "Epoch 37/50\n",
      "24/24 [==============================] - 10s 395ms/step - loss: 0.4055 - accuracy: 0.7867 - val_loss: 0.7761 - val_accuracy: 0.6064\n",
      "Epoch 38/50\n",
      "24/24 [==============================] - 9s 386ms/step - loss: 0.4210 - accuracy: 0.8053 - val_loss: 0.8073 - val_accuracy: 0.5462\n",
      "Epoch 39/50\n",
      "24/24 [==============================] - 9s 385ms/step - loss: 0.4032 - accuracy: 0.8013 - val_loss: 0.8106 - val_accuracy: 0.5703\n",
      "Epoch 40/50\n",
      "24/24 [==============================] - 10s 405ms/step - loss: 0.3873 - accuracy: 0.8093 - val_loss: 0.7824 - val_accuracy: 0.5823\n",
      "Epoch 41/50\n",
      "24/24 [==============================] - 9s 385ms/step - loss: 0.3720 - accuracy: 0.8320 - val_loss: 0.8094 - val_accuracy: 0.6064\n",
      "Epoch 42/50\n",
      "24/24 [==============================] - 10s 397ms/step - loss: 0.3543 - accuracy: 0.8147 - val_loss: 0.8438 - val_accuracy: 0.6024\n",
      "Epoch 43/50\n",
      "24/24 [==============================] - 9s 378ms/step - loss: 0.3362 - accuracy: 0.8347 - val_loss: 0.8890 - val_accuracy: 0.5823\n",
      "Epoch 44/50\n",
      "24/24 [==============================] - 9s 394ms/step - loss: 0.3669 - accuracy: 0.8387 - val_loss: 0.7725 - val_accuracy: 0.6185\n",
      "Epoch 45/50\n",
      "24/24 [==============================] - 10s 392ms/step - loss: 0.3687 - accuracy: 0.8240 - val_loss: 0.7374 - val_accuracy: 0.5823\n",
      "Epoch 46/50\n",
      "24/24 [==============================] - 9s 381ms/step - loss: 0.3718 - accuracy: 0.8227 - val_loss: 0.8080 - val_accuracy: 0.5823\n",
      "Epoch 47/50\n",
      "24/24 [==============================] - 9s 383ms/step - loss: 0.4081 - accuracy: 0.8253 - val_loss: 0.7390 - val_accuracy: 0.5984\n",
      "Epoch 48/50\n",
      "24/24 [==============================] - 9s 379ms/step - loss: 0.3452 - accuracy: 0.8320 - val_loss: 0.9074 - val_accuracy: 0.6024\n",
      "Epoch 49/50\n",
      "24/24 [==============================] - 9s 379ms/step - loss: 0.3446 - accuracy: 0.8400 - val_loss: 0.7632 - val_accuracy: 0.5904\n",
      "Epoch 50/50\n",
      "24/24 [==============================] - 9s 381ms/step - loss: 0.3443 - accuracy: 0.8347 - val_loss: 0.8873 - val_accuracy: 0.5743\n",
      "Treinamento concluído!\n"
     ]
    },
    {
     "name": "stderr",
     "output_type": "stream",
     "text": [
      "c:\\Users\\artur\\anaconda3\\Lib\\site-packages\\keras\\src\\engine\\training.py:3103: UserWarning: You are saving your model as an HDF5 file via `model.save()`. This file format is considered legacy. We recommend using instead the native Keras format, e.g. `model.save('my_model.keras')`.\n",
      "  saving_api.save_model(\n"
     ]
    }
   ],
   "source": [
    "# treinamento\n",
    "model.fit(\n",
    "    train_generator,\n",
    "    epochs = num_epochs,\n",
    "    validation_data = validation_generator\n",
    ")\n",
    "\n",
    "print('Treinamento concluído!')\n",
    "\n",
    "# salvar o modelo\n",
    "model.save('./models/cfModeloArturGG.h5')"
   ]
  }
 ],
 "metadata": {
  "kernelspec": {
   "display_name": "Python 3 (ipykernel)",
   "language": "python",
   "name": "python3"
  },
  "language_info": {
   "codemirror_mode": {
    "name": "ipython",
    "version": 3
   },
   "file_extension": ".py",
   "mimetype": "text/x-python",
   "name": "python",
   "nbconvert_exporter": "python",
   "pygments_lexer": "ipython3",
   "version": "3.11.4"
  },
  "widgets": {
   "application/vnd.jupyter.widget-state+json": {
    "state": {},
    "version_major": 2,
    "version_minor": 0
   }
  }
 },
 "nbformat": 4,
 "nbformat_minor": 4
}
