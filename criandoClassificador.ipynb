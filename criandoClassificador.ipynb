{
 "cells": [
  {
   "cell_type": "code",
   "execution_count": 9,
   "metadata": {},
   "outputs": [],
   "source": [
    "import tensorflow as tf\n",
    "import scipy, numpy\n",
    "\n",
    "from tensorflow.keras.preprocessing.image import ImageDataGenerator\n",
    "from tensorflow.keras.models import Sequential\n",
    "from tensorflow.keras.layers import Conv2D, MaxPooling2D, Flatten, Dense, Dropout"
   ]
  },
  {
   "cell_type": "code",
   "execution_count": 10,
   "metadata": {},
   "outputs": [],
   "source": [
    "# Configurações para o treinamento\n",
    "train_data_dir = './data'\n",
    "batch_size = 32 # 32 imagens por lote\n",
    "num_epochs = 50 # 50 épocas de treinamento\n",
    "image_size = (150, 150) # 150x150 pixels\n",
    "num_classes = 2 # 2 classes: porco e gato"
   ]
  },
  {
   "cell_type": "code",
   "execution_count": 11,
   "metadata": {},
   "outputs": [],
   "source": [
    "train_datagen = ImageDataGenerator(\n",
    "    rescale = 1.0/255,\n",
    "    validation_split = 0.25, # 25% para validação\n",
    "    shear_range = 0.2, # inclinação\n",
    "    zoom_range = 0.2, # zoom\n",
    "    horizontal_flip = True # espelhamento horizontal\n",
    ")"
   ]
  },
  {
   "cell_type": "code",
   "execution_count": 12,
   "metadata": {},
   "outputs": [
    {
     "name": "stdout",
     "output_type": "stream",
     "text": [
      "Found 49 images belonging to 2 classes.\n"
     ]
    }
   ],
   "source": [
    "train_generator = train_datagen.flow_from_directory(\n",
    "    train_data_dir,\n",
    "    target_size = image_size,\n",
    "    batch_size = batch_size,\n",
    "    class_mode = 'binary',\n",
    "    subset = 'training'\n",
    ")"
   ]
  },
  {
   "cell_type": "code",
   "execution_count": 13,
   "metadata": {},
   "outputs": [
    {
     "name": "stdout",
     "output_type": "stream",
     "text": [
      "Found 16 images belonging to 2 classes.\n"
     ]
    }
   ],
   "source": [
    "validation_generator = train_datagen.flow_from_directory(\n",
    "    train_data_dir,\n",
    "    target_size = image_size,\n",
    "    batch_size = batch_size,\n",
    "    class_mode = 'binary',\n",
    "    subset = 'validation'\n",
    ")"
   ]
  },
  {
   "cell_type": "code",
   "execution_count": 14,
   "metadata": {},
   "outputs": [],
   "source": [
    "model = Sequential() # instanciando o modelo\n",
    "model.add(Conv2D(32, (3,3), input_shape=(image_size[0], image_size[1], 3), activation='relu')) # camada de convolução\n",
    "model.add(MaxPooling2D(pool_size=(2,2))) # camada de pooling\n",
    "model.add(Conv2D(64, (3,3), activation='relu')) # camada de convolução\n",
    "model.add(MaxPooling2D(pool_size=(2,2))) # camada de pooling\n",
    "model.add(Flatten()) # camada de achatamento ou vetorização\n",
    "model.add(Dense(64, activation='relu')) # neurônios\n",
    "model.add(Dropout(0.5)) # regularização 50% chance de desligar neurônios\n",
    "model.add(Dense(1, activation='sigmoid')) # camada de saída (classificação binária)"
   ]
  },
  {
   "cell_type": "code",
   "execution_count": 15,
   "metadata": {},
   "outputs": [],
   "source": [
    "# compilar o modelo\n",
    "model.compile(\n",
    "    optimizer = 'adam',\n",
    "    loss = 'binary_crossentropy', # mais próximo de 0 melhor, 0.002 por exemplo\n",
    "    metrics = ['accuracy']\n",
    ")"
   ]
  },
  {
   "cell_type": "code",
   "execution_count": 17,
   "metadata": {},
   "outputs": [
    {
     "name": "stdout",
     "output_type": "stream",
     "text": [
      "Epoch 1/50\n",
      "2/2 [==============================] - 1s 530ms/step - loss: 0.0120 - accuracy: 1.0000 - val_loss: 0.0616 - val_accuracy: 1.0000\n",
      "Epoch 2/50\n",
      "2/2 [==============================] - 1s 272ms/step - loss: 0.0342 - accuracy: 1.0000 - val_loss: 0.0520 - val_accuracy: 1.0000\n",
      "Epoch 3/50\n",
      "2/2 [==============================] - 1s 422ms/step - loss: 0.0184 - accuracy: 1.0000 - val_loss: 0.1851 - val_accuracy: 0.9375\n",
      "Epoch 4/50\n",
      "2/2 [==============================] - 1s 270ms/step - loss: 0.0167 - accuracy: 1.0000 - val_loss: 0.0593 - val_accuracy: 1.0000\n",
      "Epoch 5/50\n",
      "2/2 [==============================] - 1s 273ms/step - loss: 0.0100 - accuracy: 1.0000 - val_loss: 0.0319 - val_accuracy: 1.0000\n",
      "Epoch 6/50\n",
      "2/2 [==============================] - 1s 447ms/step - loss: 0.0128 - accuracy: 1.0000 - val_loss: 0.0925 - val_accuracy: 0.9375\n",
      "Epoch 7/50\n",
      "2/2 [==============================] - 1s 416ms/step - loss: 0.0062 - accuracy: 1.0000 - val_loss: 0.0755 - val_accuracy: 0.9375\n",
      "Epoch 8/50\n",
      "2/2 [==============================] - 1s 272ms/step - loss: 0.0288 - accuracy: 1.0000 - val_loss: 0.0384 - val_accuracy: 1.0000\n",
      "Epoch 9/50\n",
      "2/2 [==============================] - 1s 279ms/step - loss: 0.0135 - accuracy: 1.0000 - val_loss: 0.0476 - val_accuracy: 1.0000\n",
      "Epoch 10/50\n",
      "2/2 [==============================] - 1s 275ms/step - loss: 0.0187 - accuracy: 1.0000 - val_loss: 0.0314 - val_accuracy: 1.0000\n",
      "Epoch 11/50\n",
      "2/2 [==============================] - 1s 411ms/step - loss: 0.0048 - accuracy: 1.0000 - val_loss: 0.1026 - val_accuracy: 0.9375\n",
      "Epoch 12/50\n",
      "2/2 [==============================] - 1s 410ms/step - loss: 0.0085 - accuracy: 1.0000 - val_loss: 0.2260 - val_accuracy: 0.9375\n",
      "Epoch 13/50\n",
      "2/2 [==============================] - 1s 273ms/step - loss: 0.1301 - accuracy: 0.9592 - val_loss: 0.1584 - val_accuracy: 0.9375\n",
      "Epoch 14/50\n",
      "2/2 [==============================] - 1s 419ms/step - loss: 0.1044 - accuracy: 0.9388 - val_loss: 0.6026 - val_accuracy: 0.7500\n",
      "Epoch 15/50\n",
      "2/2 [==============================] - 1s 446ms/step - loss: 0.1778 - accuracy: 0.9184 - val_loss: 0.1141 - val_accuracy: 1.0000\n",
      "Epoch 16/50\n",
      "2/2 [==============================] - 1s 435ms/step - loss: 0.0288 - accuracy: 1.0000 - val_loss: 0.1702 - val_accuracy: 0.8750\n",
      "Epoch 17/50\n",
      "2/2 [==============================] - 1s 278ms/step - loss: 0.1511 - accuracy: 0.9388 - val_loss: 0.2723 - val_accuracy: 0.8750\n",
      "Epoch 18/50\n",
      "2/2 [==============================] - 1s 277ms/step - loss: 0.1700 - accuracy: 0.9388 - val_loss: 0.2047 - val_accuracy: 0.9375\n",
      "Epoch 19/50\n",
      "2/2 [==============================] - 1s 287ms/step - loss: 0.0691 - accuracy: 1.0000 - val_loss: 0.1645 - val_accuracy: 0.9375\n",
      "Epoch 20/50\n",
      "2/2 [==============================] - 1s 443ms/step - loss: 0.0831 - accuracy: 1.0000 - val_loss: 0.1549 - val_accuracy: 1.0000\n",
      "Epoch 21/50\n",
      "2/2 [==============================] - 1s 438ms/step - loss: 0.1071 - accuracy: 0.9796 - val_loss: 0.1611 - val_accuracy: 1.0000\n",
      "Epoch 22/50\n",
      "2/2 [==============================] - 1s 282ms/step - loss: 0.0667 - accuracy: 1.0000 - val_loss: 0.1279 - val_accuracy: 1.0000\n",
      "Epoch 23/50\n",
      "2/2 [==============================] - 1s 423ms/step - loss: 0.1331 - accuracy: 0.9592 - val_loss: 0.0717 - val_accuracy: 1.0000\n",
      "Epoch 24/50\n",
      "2/2 [==============================] - 1s 429ms/step - loss: 0.0582 - accuracy: 0.9796 - val_loss: 0.1738 - val_accuracy: 0.8750\n",
      "Epoch 25/50\n",
      "2/2 [==============================] - 1s 431ms/step - loss: 0.0407 - accuracy: 1.0000 - val_loss: 0.1680 - val_accuracy: 0.9375\n",
      "Epoch 26/50\n",
      "2/2 [==============================] - 1s 276ms/step - loss: 0.0394 - accuracy: 0.9796 - val_loss: 0.0972 - val_accuracy: 0.9375\n",
      "Epoch 27/50\n",
      "2/2 [==============================] - 1s 430ms/step - loss: 0.0873 - accuracy: 0.9796 - val_loss: 0.0172 - val_accuracy: 1.0000\n",
      "Epoch 28/50\n",
      "2/2 [==============================] - 1s 411ms/step - loss: 0.0192 - accuracy: 1.0000 - val_loss: 0.0417 - val_accuracy: 1.0000\n",
      "Epoch 29/50\n",
      "2/2 [==============================] - 1s 272ms/step - loss: 0.0480 - accuracy: 0.9796 - val_loss: 0.0497 - val_accuracy: 1.0000\n",
      "Epoch 30/50\n",
      "2/2 [==============================] - 1s 279ms/step - loss: 0.0198 - accuracy: 1.0000 - val_loss: 0.0644 - val_accuracy: 1.0000\n",
      "Epoch 31/50\n",
      "2/2 [==============================] - 1s 292ms/step - loss: 0.0102 - accuracy: 1.0000 - val_loss: 0.0238 - val_accuracy: 1.0000\n",
      "Epoch 32/50\n",
      "2/2 [==============================] - 1s 276ms/step - loss: 0.0052 - accuracy: 1.0000 - val_loss: 0.0186 - val_accuracy: 1.0000\n",
      "Epoch 33/50\n",
      "2/2 [==============================] - 1s 435ms/step - loss: 0.0108 - accuracy: 1.0000 - val_loss: 0.0127 - val_accuracy: 1.0000\n",
      "Epoch 34/50\n",
      "2/2 [==============================] - 1s 283ms/step - loss: 0.0040 - accuracy: 1.0000 - val_loss: 0.0141 - val_accuracy: 1.0000\n",
      "Epoch 35/50\n",
      "2/2 [==============================] - 1s 277ms/step - loss: 0.0049 - accuracy: 1.0000 - val_loss: 0.0492 - val_accuracy: 1.0000\n",
      "Epoch 36/50\n",
      "2/2 [==============================] - 1s 436ms/step - loss: 0.0237 - accuracy: 1.0000 - val_loss: 0.0355 - val_accuracy: 1.0000\n",
      "Epoch 37/50\n",
      "2/2 [==============================] - 1s 440ms/step - loss: 0.0550 - accuracy: 0.9592 - val_loss: 0.0616 - val_accuracy: 1.0000\n",
      "Epoch 38/50\n",
      "2/2 [==============================] - 1s 433ms/step - loss: 0.0306 - accuracy: 0.9796 - val_loss: 0.1999 - val_accuracy: 0.8750\n",
      "Epoch 39/50\n",
      "2/2 [==============================] - 1s 296ms/step - loss: 0.0243 - accuracy: 1.0000 - val_loss: 0.0182 - val_accuracy: 1.0000\n",
      "Epoch 40/50\n",
      "2/2 [==============================] - 1s 288ms/step - loss: 0.0038 - accuracy: 1.0000 - val_loss: 0.0148 - val_accuracy: 1.0000\n",
      "Epoch 41/50\n",
      "2/2 [==============================] - 1s 273ms/step - loss: 0.0196 - accuracy: 0.9796 - val_loss: 0.1638 - val_accuracy: 0.9375\n",
      "Epoch 42/50\n",
      "2/2 [==============================] - 1s 450ms/step - loss: 0.0082 - accuracy: 1.0000 - val_loss: 0.1902 - val_accuracy: 0.9375\n",
      "Epoch 43/50\n",
      "2/2 [==============================] - 1s 284ms/step - loss: 0.0070 - accuracy: 1.0000 - val_loss: 0.1488 - val_accuracy: 0.9375\n",
      "Epoch 44/50\n",
      "2/2 [==============================] - 1s 281ms/step - loss: 0.0148 - accuracy: 1.0000 - val_loss: 0.1305 - val_accuracy: 0.9375\n",
      "Epoch 45/50\n",
      "2/2 [==============================] - 1s 453ms/step - loss: 0.0106 - accuracy: 1.0000 - val_loss: 0.0217 - val_accuracy: 1.0000\n",
      "Epoch 46/50\n",
      "2/2 [==============================] - 1s 416ms/step - loss: 0.0040 - accuracy: 1.0000 - val_loss: 0.0505 - val_accuracy: 1.0000\n",
      "Epoch 47/50\n",
      "2/2 [==============================] - 1s 286ms/step - loss: 0.0096 - accuracy: 1.0000 - val_loss: 0.0576 - val_accuracy: 1.0000\n",
      "Epoch 48/50\n",
      "2/2 [==============================] - 1s 277ms/step - loss: 0.0108 - accuracy: 1.0000 - val_loss: 0.0532 - val_accuracy: 1.0000\n",
      "Epoch 49/50\n",
      "2/2 [==============================] - 1s 276ms/step - loss: 0.0055 - accuracy: 1.0000 - val_loss: 0.0118 - val_accuracy: 1.0000\n",
      "Epoch 50/50\n",
      "2/2 [==============================] - 1s 428ms/step - loss: 0.0188 - accuracy: 1.0000 - val_loss: 0.0202 - val_accuracy: 1.0000\n",
      "Treinamento concluído!\n"
     ]
    }
   ],
   "source": [
    "# treinamento\n",
    "model.fit(\n",
    "    train_generator,\n",
    "    epochs = num_epochs,\n",
    "    validation_data = validation_generator\n",
    ")\n",
    "\n",
    "print('Treinamento concluído!')\n",
    "\n",
    "# salvar o modelo\n",
    "model.save('./models/cfModeloHenriqueLF.h5')"
   ]
  }
 ],
 "metadata": {
  "kernelspec": {
   "display_name": "Python 3 (ipykernel)",
   "language": "python",
   "name": "python3"
  },
  "language_info": {
   "codemirror_mode": {
    "name": "ipython",
    "version": 3
   },
   "file_extension": ".py",
   "mimetype": "text/x-python",
   "name": "python",
   "nbconvert_exporter": "python",
   "pygments_lexer": "ipython3",
   "version": "3.8.5"
  },
  "widgets": {
   "application/vnd.jupyter.widget-state+json": {
    "state": {},
    "version_major": 2,
    "version_minor": 0
   }
  }
 },
 "nbformat": 4,
 "nbformat_minor": 4
}
