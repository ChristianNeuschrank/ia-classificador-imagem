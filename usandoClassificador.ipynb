{
	"cells": [
		{
			"cell_type": "code",
			"execution_count": 4,
			"metadata": {},
			"outputs": [],
			"source": [
				"import os\n",
				"import tensorflow as tf\n",
				"from tensorflow.keras.preprocessing import image\n",
				"import numpy as np"
			]
		},
		{
			"cell_type": "code",
			"execution_count": null,
			"metadata": {},
			"outputs": [],
			"source": [
				"\n",
				"model = tf.keras.models.load_model('./models/cfandrio.h5')\n",
				"\n",
				"\n",
				"new_image_path = './data/1.jpg'  \n",
				"\n",
				"img = image.load_img(new_image_path, target_size=(150, 150))\n",
				"img = image.img_to_array(img)\n",
				"img = np.expand_dims(img, axis=0)\n",
				"img = img / 255.0  \n",
				"\n",
				"\n",
				"prediction = model.predict(img)"
			]
		},
		{
			"cell_type": "code",
			"execution_count": null,
			"metadata": {},
			"outputs": [],
			"source": [
				"directory = './data'  \n",
				"\n",
				"for filename in os.listdir(directory):\n",
				"    if filename.endswith(\".jpg\") or filename.endswith(\".jpeg\"):\n",
				"        print(filename)\n",
				"\n",
				"        image_path = os.path.join(directory, filename)\n",
				"\n",
				"        img = image.load_img(image_path, target_size=(150, 150))\n",
				"        img = image.img_to_array(img)\n",
				"        img = np.expand_dims(img, axis=0)\n",
				"        img = img / 255.0  \n",
				"\n",
				"        prediction = model.predict(img)\n",
				"\n",
				"        if prediction < 0.5:\n",
				"            print(\"Bike\") \n",
				"        else:\n",
				"            print(\"Moto\") \n",
				"\n",
				"        print(f'%.2f\\n' % (prediction))"
			]
		}
	],
	"metadata": {
		"kernelspec": {
			"display_name": "base",
			"language": "python",
			"name": "python3"
		},
		"language_info": {
			"codemirror_mode": {
				"name": "ipython",
				"version": 3
			},
			"file_extension": ".py",
			"mimetype": "text/x-python",
			"name": "python",
			"nbconvert_exporter": "python",
			"pygments_lexer": "ipython3",
			"version": "3.11.4"
		}
	},
	"nbformat": 4,
	"nbformat_minor": 2
}
